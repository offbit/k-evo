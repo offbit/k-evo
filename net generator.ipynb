{
 "cells": [
  {
   "cell_type": "code",
   "execution_count": 18,
   "metadata": {
    "ExecuteTime": {
     "end_time": "2019-06-13T17:23:37.526295Z",
     "start_time": "2019-06-13T17:23:37.519396Z"
    }
   },
   "outputs": [],
   "source": [
    "import dna\n",
    "from keras.backend import clear_session\n",
    "from models import build_module\n",
    "\n",
    "from keras.utils.vis_utils import plot_model\n"
   ]
  },
  {
   "cell_type": "code",
   "execution_count": null,
   "metadata": {},
   "outputs": [],
   "source": []
  },
  {
   "cell_type": "code",
   "execution_count": 2,
   "metadata": {
    "ExecuteTime": {
     "end_time": "2019-06-13T17:20:13.490662Z",
     "start_time": "2019-06-13T17:20:13.481998Z"
    }
   },
   "outputs": [
    {
     "name": "stdout",
     "output_type": "stream",
     "text": [
      "['in', 'out']\n"
     ]
    }
   ],
   "source": [
    "m = dna.random_net('33', 28 * 28, 10, 5, True)"
   ]
  },
  {
   "cell_type": "code",
   "execution_count": 17,
   "metadata": {
    "ExecuteTime": {
     "end_time": "2019-06-13T17:23:31.450245Z",
     "start_time": "2019-06-13T17:23:31.441990Z"
    }
   },
   "outputs": [
    {
     "name": "stdout",
     "output_type": "stream",
     "text": [
      "mutation mutate_edge\n",
      "edge e 5\n"
     ]
    }
   ],
   "source": [
    "m = m.mutate_net()"
   ]
  },
  {
   "cell_type": "code",
   "execution_count": 19,
   "metadata": {
    "ExecuteTime": {
     "end_time": "2019-06-13T17:23:38.726122Z",
     "start_time": "2019-06-13T17:23:38.695273Z"
    }
   },
   "outputs": [],
   "source": [
    "\n",
    "clear_session()"
   ]
  },
  {
   "cell_type": "code",
   "execution_count": 20,
   "metadata": {
    "ExecuteTime": {
     "end_time": "2019-06-13T17:23:39.393099Z",
     "start_time": "2019-06-13T17:23:38.861459Z"
    }
   },
   "outputs": [],
   "source": [
    "model  = build_module(m)"
   ]
  },
  {
   "cell_type": "code",
   "execution_count": 21,
   "metadata": {
    "ExecuteTime": {
     "end_time": "2019-06-13T17:23:39.696107Z",
     "start_time": "2019-06-13T17:23:39.394985Z"
    }
   },
   "outputs": [],
   "source": [
    "plot_model(model, to_file='model_plot.png', show_shapes=True, show_layer_names=True)"
   ]
  },
  {
   "cell_type": "code",
   "execution_count": null,
   "metadata": {},
   "outputs": [],
   "source": []
  }
 ],
 "metadata": {
  "kernelspec": {
   "display_name": "Python 3",
   "language": "python",
   "name": "python3"
  },
  "language_info": {
   "codemirror_mode": {
    "name": "ipython",
    "version": 3
   },
   "file_extension": ".py",
   "mimetype": "text/x-python",
   "name": "python",
   "nbconvert_exporter": "python",
   "pygments_lexer": "ipython3",
   "version": "3.6.4"
  }
 },
 "nbformat": 4,
 "nbformat_minor": 2
}
